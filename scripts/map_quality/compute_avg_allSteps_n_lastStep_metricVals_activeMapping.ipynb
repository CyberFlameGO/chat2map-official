{
 "cells": [
  {
   "cell_type": "code",
   "execution_count": null,
   "id": "faccc4af",
   "metadata": {},
   "outputs": [],
   "source": [
    "# Copyright (c) Meta Platforms, Inc. and affiliates.\n",
    "# All rights reserved.\n",
    "\n",
    "# This source code is licensed under the license found in the\n",
    "# LICENSE file in the root directory of this source tree.\n",
    "\n",
    "import os\n",
    "import numpy as np\n",
    "import pickle"
   ]
  },
  {
   "cell_type": "code",
   "execution_count": null,
   "id": "9aab4c60",
   "metadata": {},
   "outputs": [],
   "source": [
    "EVAL_DIR = \"../../runs_eval/chat2map_activeMapper/\"\n",
    "assert os.path.isdir(EVAL_DIR)\n",
    "\n",
    "METRIC_FILENAME = \"eval_metrics.pkl\"\n",
    "\n",
    "METRIC_FILE_PATH = os.path.join(EVAL_DIR, METRIC_FILENAME)\n",
    "assert os.path.isfile(METRIC_FILE_PATH)"
   ]
  },
  {
   "cell_type": "code",
   "execution_count": null,
   "id": "c3dcf1cf",
   "metadata": {},
   "outputs": [],
   "source": [
    "with open(METRIC_FILE_PATH, \"rb\") as fi:\n",
    "    metricName_to_sceneEpId_perStepMetricVal = pickle.load(fi)"
   ]
  },
  {
   "cell_type": "code",
   "execution_count": null,
   "id": "e19b0bf7",
   "metadata": {},
   "outputs": [],
   "source": [
    "for metricName in metricName_to_sceneEpId_perStepMetricVal:\n",
    "    all_sceneEpId_perStepMetricVal = []\n",
    "    for sceneEpId, perStepMetricVal in metricName_to_sceneEpId_perStepMetricVal[metricName].items():\n",
    "        all_sceneEpId_perStepMetricVal.append(perStepMetricVal)\n",
    "        \n",
    "    all_sceneEpId_perStepMetricVal = np.array(all_sceneEpId_perStepMetricVal)\n",
    "    print(f\"{metricName}: all steps mean: {np.mean(all_sceneEpId_perStepMetricVal) * 100:.2f}, last step mean: {np.mean(all_sceneEpId_perStepMetricVal[:, -1]) * 100:.2f}\")"
   ]
  }
 ],
 "metadata": {
  "kernelspec": {
   "display_name": "Python 3",
   "language": "python",
   "name": "python3"
  },
  "language_info": {
   "codemirror_mode": {
    "name": "ipython",
    "version": 3
   },
   "file_extension": ".py",
   "mimetype": "text/x-python",
   "name": "python",
   "nbconvert_exporter": "python",
   "pygments_lexer": "ipython3",
   "version": "3.6.13"
  }
 },
 "nbformat": 4,
 "nbformat_minor": 5
}
