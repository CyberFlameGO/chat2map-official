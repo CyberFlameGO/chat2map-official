{
 "cells": [
  {
   "cell_type": "code",
   "execution_count": null,
   "id": "c7c5e5c7",
   "metadata": {},
   "outputs": [],
   "source": [
    "# Copyright (c) Meta Platforms, Inc. and affiliates.\n",
    "# All rights reserved.\n",
    "\n",
    "# This source code is licensed under the license found in the\n",
    "# LICENSE file in the root directory of this source tree.\n",
    "\n",
    "import os\n",
    "import pickle\n",
    "import numpy as np"
   ]
  },
  {
   "cell_type": "code",
   "execution_count": null,
   "id": "3b122c30",
   "metadata": {},
   "outputs": [],
   "source": [
    "EVAL_DIR = \"../../runs_eval/passive_mapping/\"\n",
    "assert os.path.isdir(EVAL_DIR)\n",
    "\n",
    "METRIC_FILENAME = \"test_1000datapoints_metrics.pkl\"\n",
    "\n",
    "METRIC_FILE_PATH = os.path.join(EVAL_DIR, METRIC_FILENAME)\n",
    "assert os.path.isfile(METRIC_FILE_PATH)"
   ]
  },
  {
   "cell_type": "code",
   "execution_count": null,
   "id": "6a3ffb64",
   "metadata": {},
   "outputs": [],
   "source": [
    "with open(METRIC_FILE_PATH, \"rb\") as fi:\n",
    "    metricName_to_metricVal = pickle.load(fi)"
   ]
  },
  {
   "cell_type": "code",
   "execution_count": null,
   "id": "a7a819c9",
   "metadata": {},
   "outputs": [],
   "source": [
    "for metricName, metricVal in metricName_to_metricVal.items():\n",
    "    print(f\"{metricName} mean: {np.mean(metricVal) * 100:.2f}%\")"
   ]
  }
 ],
 "metadata": {
  "kernelspec": {
   "display_name": "Python 3",
   "language": "python",
   "name": "python3"
  },
  "language_info": {
   "codemirror_mode": {
    "name": "ipython",
    "version": 3
   },
   "file_extension": ".py",
   "mimetype": "text/x-python",
   "name": "python",
   "nbconvert_exporter": "python",
   "pygments_lexer": "ipython3",
   "version": "3.6.13"
  }
 },
 "nbformat": 4,
 "nbformat_minor": 5
}
